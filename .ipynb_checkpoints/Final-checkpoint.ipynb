{
 "cells": [
  {
   "cell_type": "code",
   "execution_count": 317,
   "metadata": {},
   "outputs": [],
   "source": [
    "from bs4 import BeautifulSoup\n",
    "import time\n",
    "import pandas as pd\n",
    "import requests\n",
    "import sqlite3\n",
    "from random import randint\n",
    "from time import sleep"
   ]
  },
  {
   "cell_type": "code",
   "execution_count": null,
   "metadata": {},
   "outputs": [],
   "source": [
    "#Function to get main url Tiki\n",
    "def get_url(url):\n",
    "    request = requests.get(url)\n",
    "    soup = BeautifulSoup(request.text, 'html.parser')\n",
    "    return soup"
   ]
  },
  {
   "cell_type": "code",
   "execution_count": null,
   "metadata": {},
   "outputs": [],
   "source": [
    "#Finding tag for categories \n",
    "link = get_url('https://tiki.vn/')\n",
    "link.find_all('a', {'class' : 'MenuItem__MenuLink-sc-181aa19-1 fKvTQu'})"
   ]
  },
  {
   "cell_type": "code",
   "execution_count": 226,
   "metadata": {},
   "outputs": [],
   "source": [
    "conn = sqlite3.connect('Tiki_main.db')\n",
    "cur = conn.cursor()"
   ]
  },
  {
   "cell_type": "code",
   "execution_count": 212,
   "metadata": {},
   "outputs": [],
   "source": [
    "#Creating a table named Categories\n",
    "def create_table():\n",
    "    query = '''\n",
    "    CREATE TABLE IF NOT EXISTS categories \n",
    "    (id INTEGER PRIMARY KEY AUTOINCREMENT,\n",
    "    name VARCHAR(256),\n",
    "    url TEXT,\n",
    "    parent_id INTEGER\n",
    "    )'''\n",
    "    try:\n",
    "        conn.execute(query)\n",
    "        conn.commit()\n",
    "    except Exception as err:\n",
    "        print('Error', err)\n",
    "\n",
    "create_table()"
   ]
  },
  {
   "cell_type": "code",
   "execution_count": null,
   "metadata": {},
   "outputs": [],
   "source": [
    "class Category():\n",
    "    def __init__(self, name, url, parent_id = None, cat_id = None):\n",
    "        self.cat_id = cat_id\n",
    "        self.name = name\n",
    "        self.url = url\n",
    "        self.parent_id = parent_id\n",
    "        \n",
    "    \n",
    "    def __repr__(self):\n",
    "        return f\"ID: {self.cat_id}, Name: {self.name}, URL: {self.url}, Parent: {self.parent_id}\"\n",
    "    \n",
    "    def save_into_db(self):\n",
    "        query = '''\n",
    "        INSERT INTO categories\n",
    "        (name, url, parent_id)\n",
    "        VALUES (?,?,?)'''\n",
    "        \n",
    "        value = (self.name, self.url, self.parent_id)\n",
    "        \n",
    "        try:\n",
    "            cur.execute(query, value)\n",
    "            self.cat_id = cur.lastrowid\n",
    "            conn.commit()\n",
    "        except Exception as err:\n",
    "            print(\"Error\")"
   ]
  },
  {
   "cell_type": "code",
   "execution_count": null,
   "metadata": {},
   "outputs": [],
   "source": [
    "#Function to get main categories\n",
    "def main(save_db = False):\n",
    "    soup = get_url('https://tiki.vn/')\n",
    "    \n",
    "    result = []\n",
    "    \n",
    "    for a in soup.find_all('a', {'class': 'MenuItem__MenuLink-sc-181aa19-1 fKvTQu'}):\n",
    "        name = a.find('span', {'class': 'text'}).text\n",
    "        url = a['href']\n",
    "        main_cat = Category(name, url)\n",
    "        \n",
    "        if save_db:\n",
    "            main_cat.save_into_db()\n",
    "        result.append(main_cat)\n",
    "        \n",
    "    return result"
   ]
  },
  {
   "cell_type": "code",
   "execution_count": null,
   "metadata": {},
   "outputs": [],
   "source": [
    "main_categories = main(save_db = True)"
   ]
  },
  {
   "cell_type": "code",
   "execution_count": null,
   "metadata": {},
   "outputs": [],
   "source": [
    "print(len(main_categories))\n",
    "#16 main categories"
   ]
  },
  {
   "cell_type": "code",
   "execution_count": null,
   "metadata": {},
   "outputs": [],
   "source": [
    "import re\n",
    "\n",
    "def sub_categories(parent_category, save_db = False):\n",
    "    parent_url = parent_category.url\n",
    "    result = []\n",
    "    \n",
    "    try:\n",
    "        soup = get_url(parent_url)\n",
    "        div_children = soup.find_all('div', {'class': 'list-group-item is-child'})\n",
    "        \n",
    "        for div in div_children:\n",
    "            name = div.a.text.strip()\n",
    "            \n",
    "            name = re.sub('\\s{2,}','',name)\n",
    "            \n",
    "            sub_url = 'https://tiki.vn/' + div.a['href']\n",
    "            cat = Category(name, sub_url, parent_category.cat_id)\n",
    "            \n",
    "            if save_db:\n",
    "                cat.save_into_db()\n",
    "                \n",
    "            result.append(cat)\n",
    "                \n",
    "    except Exception as err:\n",
    "        print(\"Error with children categories\", err)\n",
    "    \n",
    "    return result"
   ]
  },
  {
   "cell_type": "code",
   "execution_count": null,
   "metadata": {},
   "outputs": [],
   "source": [
    "def get_all(categories):\n",
    "    if len(categories) == 0:\n",
    "        return\n",
    "    \n",
    "    for item in categories:\n",
    "        children_categories = sub_categories(item, save_db = True)\n",
    "        print(children_categories)\n",
    "        get_all(children_categories)"
   ]
  },
  {
   "cell_type": "code",
   "execution_count": null,
   "metadata": {},
   "outputs": [],
   "source": [
    "get_all(main_categories)"
   ]
  },
  {
   "cell_type": "code",
   "execution_count": 213,
   "metadata": {},
   "outputs": [],
   "source": [
    "def product_table():\n",
    "    query = '''\n",
    "    CREATE TABLE IF NOT EXISTS product\n",
    "    (Product_id INTEGER PRIMARY KEY AUTOINCREMENT,\n",
    "    Title VARCHAR(256),\n",
    "    Brand VARCHAR(256),\n",
    "    Original INTEGER,\n",
    "    Discounted SMALLINT,\n",
    "    Final INTEGER,\n",
    "    Link TEXT,\n",
    "    Cat_id INTEGER)'''\n",
    "    #Tom suggested I search up how to do one to many relationships in sqlite python...\n",
    "    # FOREIGN KEY (Cat_id) REFERENCES categories (id)\n",
    "    \n",
    "    try:\n",
    "        conn.execute(query)\n",
    "        conn.commit()\n",
    "    except Exception as err:\n",
    "        print('Error', err)"
   ]
  },
  {
   "cell_type": "code",
   "execution_count": 223,
   "metadata": {},
   "outputs": [],
   "source": [
    "product_table()"
   ]
  },
  {
   "cell_type": "code",
   "execution_count": 222,
   "metadata": {},
   "outputs": [
    {
     "data": {
      "text/plain": [
       "<sqlite3.Cursor at 0x2e2c39a03b0>"
      ]
     },
     "execution_count": 222,
     "metadata": {},
     "output_type": "execute_result"
    }
   ],
   "source": [
    "cur.execute('DROP table product')"
   ]
  },
  {
   "cell_type": "code",
   "execution_count": 177,
   "metadata": {},
   "outputs": [],
   "source": [
    "#Damn OOP feels good\n",
    "class Product():\n",
    "    def __init__(self, title, brand, original, discounted, final, link, cat_id = None, product_id = None): \n",
    "        self.title = title\n",
    "        self.brand = brand\n",
    "        self.original = original\n",
    "        self.discounted = discounted\n",
    "        self.final = final\n",
    "        self.link = link \n",
    "        self.product_id = product_id \n",
    "        self.cat_id = cat_id\n",
    "    \n",
    "    def __repr__(self):\n",
    "        return f'''\n",
    "        Title: {self.title}, \n",
    "        Brand: {self.brand}, \n",
    "        Original: {self.original}, \n",
    "        Discounted: {self.discounted}, \n",
    "        Final: {self.final}, \n",
    "        Link: {self.link}'''\n",
    "    \n",
    "    \n",
    "    def save_into_db(self):\n",
    "        query = '''\n",
    "        INSERT INTO product\n",
    "        (Title, Brand, Original, Discounted, Final, Link, cat_id)\n",
    "        VALUES (?,?,?,?,?,?,?);'''\n",
    "        #7 parameters \n",
    "        value = (self.title,self.brand, self.original, self.discounted, self.final, self.link, self.cat_id)\n",
    "        \n",
    "        #cur.lastrowid autoincrement for Primary key \n",
    "        try:\n",
    "            cur.execute(query,value)\n",
    "            self.product_id = cur.lastrowid\n",
    "            conn.commit()\n",
    "            \n",
    "        except Exception as err:\n",
    "            print(\"Error\", err)"
   ]
  },
  {
   "cell_type": "code",
   "execution_count": 118,
   "metadata": {},
   "outputs": [],
   "source": [
    "def get_all_url_id():\n",
    "    sub_categories = pd.read_sql('''\n",
    "    SELECT a.url, a.id\n",
    "    FROM categories AS a\n",
    "    LEFT JOIN categories as b ON a.id = b.parent_id\n",
    "    WHERE b.id IS NULL\n",
    "    ORDER BY a.name ASC''', conn)\n",
    "    \n",
    "    return sub_categories\n",
    "#Don't use distinct, otherwise you won't get back the id value for table referencing "
   ]
  },
  {
   "cell_type": "code",
   "execution_count": 209,
   "metadata": {},
   "outputs": [],
   "source": [
    "sub_categories = get_all_url_id()"
   ]
  },
  {
   "cell_type": "code",
   "execution_count": 224,
   "metadata": {},
   "outputs": [],
   "source": [
    "def get_product(save_db = False):\n",
    "    result = []\n",
    "    try:\n",
    "        #Shortcoming: I didn't take into consideration that some products don't have discount and,thus, no final price\n",
    "        #But I was too deep in ... \n",
    "        \n",
    "        for product in products:\n",
    "            title = product['data-title']\n",
    "            brand = product['data-brand']\n",
    "            original = product.find('span', {'class': 'price-regular'}).text.replace('đ','').replace('.','')\n",
    "            #try..except\n",
    "            discounted = product.find('span', {'class': 'sale-tag sale-tag-square'}).text.replace('%','')\n",
    "            #try..except \n",
    "            final = product['data-price']\n",
    "            link = 'tiki.vn' + product.a['href']\n",
    "            \n",
    "            #See below for reference on iloc\n",
    "            #The sub_categories['id'] is a np.interger, whereas our table only supports int type...\n",
    "            #We need to change to int to avoid something call a BLOB type. Search google! \n",
    "            \n",
    "            item = Product(title, brand, original, discounted, final, link, int(sub_categories['id'].iloc[pages]))\n",
    "            if save_db:\n",
    "                item.save_into_db()\n",
    "            result.append(item)\n",
    "    except Exception as err:\n",
    "        print('F', err)\n",
    "    \n",
    "    return result "
   ]
  },
  {
   "cell_type": "code",
   "execution_count": 64,
   "metadata": {},
   "outputs": [],
   "source": [
    "#Testing to see if we can use .iloc to get url. See below for refrence on iloc. \n",
    "r = requests.get(sub_categories['url'].iloc[0])\n",
    "soup = BeautifulSoup(r.text, 'html.parser')\n",
    "product = soup.find('div', {'class':'product-item'})"
   ]
  },
  {
   "cell_type": "code",
   "execution_count": 66,
   "metadata": {},
   "outputs": [
    {
     "name": "stdout",
     "output_type": "stream",
     "text": [
      "2680\n"
     ]
    }
   ],
   "source": [
    "print(len(sub_categories))"
   ]
  },
  {
   "cell_type": "code",
   "execution_count": 168,
   "metadata": {},
   "outputs": [
    {
     "name": "stdout",
     "output_type": "stream",
     "text": [
      "<class 'numpy.int64'>\n"
     ]
    }
   ],
   "source": [
    "print(type(sub_categories['id'].iloc[0]))\n",
    "#Checking type for sub_categories['id']#"
   ]
  },
  {
   "cell_type": "code",
   "execution_count": 100,
   "metadata": {},
   "outputs": [
    {
     "data": {
      "text/plain": [
       "'https://tiki.vn//3d/c23742?src=c.1883.hamburger_menu_fly_out_banner'"
      ]
     },
     "execution_count": 100,
     "metadata": {},
     "output_type": "execute_result"
    }
   ],
   "source": [
    "str(sub_categories['url'].iloc[0])"
   ]
  },
  {
   "cell_type": "code",
   "execution_count": 232,
   "metadata": {},
   "outputs": [],
   "source": [
    "sub_categories = get_all_url_id()"
   ]
  },
  {
   "cell_type": "code",
   "execution_count": 233,
   "metadata": {},
   "outputs": [
    {
     "data": {
      "text/html": [
       "<div>\n",
       "<style scoped>\n",
       "    .dataframe tbody tr th:only-of-type {\n",
       "        vertical-align: middle;\n",
       "    }\n",
       "\n",
       "    .dataframe tbody tr th {\n",
       "        vertical-align: top;\n",
       "    }\n",
       "\n",
       "    .dataframe thead th {\n",
       "        text-align: right;\n",
       "    }\n",
       "</style>\n",
       "<table border=\"1\" class=\"dataframe\">\n",
       "  <thead>\n",
       "    <tr style=\"text-align: right;\">\n",
       "      <th></th>\n",
       "      <th>url</th>\n",
       "      <th>id</th>\n",
       "    </tr>\n",
       "  </thead>\n",
       "  <tbody>\n",
       "    <tr>\n",
       "      <th>0</th>\n",
       "      <td>https://tiki.vn//3d/c23742?src=c.1883.hamburge...</td>\n",
       "      <td>887</td>\n",
       "    </tr>\n",
       "    <tr>\n",
       "      <th>1</th>\n",
       "      <td>https://tiki.vn//access-point-diem-truy-cap/c4...</td>\n",
       "      <td>314</td>\n",
       "    </tr>\n",
       "    <tr>\n",
       "      <th>2</th>\n",
       "      <td>https://tiki.vn//access/c14884?src=c.8322.hamb...</td>\n",
       "      <td>2827</td>\n",
       "    </tr>\n",
       "    <tr>\n",
       "      <th>3</th>\n",
       "      <td>https://tiki.vn//action-adventure/c142?src=c.8...</td>\n",
       "      <td>2849</td>\n",
       "    </tr>\n",
       "    <tr>\n",
       "      <th>4</th>\n",
       "      <td>https://tiki.vn//action-adventure/c11017?src=c...</td>\n",
       "      <td>2793</td>\n",
       "    </tr>\n",
       "    <tr>\n",
       "      <th>...</th>\n",
       "      <td>...</td>\n",
       "      <td>...</td>\n",
       "    </tr>\n",
       "    <tr>\n",
       "      <th>2675</th>\n",
       "      <td>https://tiki.vn//o-cam-dien/c2021?src=c.1883.h...</td>\n",
       "      <td>557</td>\n",
       "    </tr>\n",
       "    <tr>\n",
       "      <th>2676</th>\n",
       "      <td>https://tiki.vn//o-khoa-vali/c8389?src=c.914.h...</td>\n",
       "      <td>2125</td>\n",
       "    </tr>\n",
       "    <tr>\n",
       "      <th>2677</th>\n",
       "      <td>https://tiki.vn//o-khoa/c2154?src=c.1883.hambu...</td>\n",
       "      <td>562</td>\n",
       "    </tr>\n",
       "    <tr>\n",
       "      <th>2678</th>\n",
       "      <td>https://tiki.vn//o-dia-quang/c28908?src=c.1846...</td>\n",
       "      <td>280</td>\n",
       "    </tr>\n",
       "    <tr>\n",
       "      <th>2679</th>\n",
       "      <td>https://tiki.vn//on-ap-bien-ap/c11854?src=c.18...</td>\n",
       "      <td>558</td>\n",
       "    </tr>\n",
       "  </tbody>\n",
       "</table>\n",
       "<p>2680 rows × 2 columns</p>\n",
       "</div>"
      ],
      "text/plain": [
       "                                                    url    id\n",
       "0     https://tiki.vn//3d/c23742?src=c.1883.hamburge...   887\n",
       "1     https://tiki.vn//access-point-diem-truy-cap/c4...   314\n",
       "2     https://tiki.vn//access/c14884?src=c.8322.hamb...  2827\n",
       "3     https://tiki.vn//action-adventure/c142?src=c.8...  2849\n",
       "4     https://tiki.vn//action-adventure/c11017?src=c...  2793\n",
       "...                                                 ...   ...\n",
       "2675  https://tiki.vn//o-cam-dien/c2021?src=c.1883.h...   557\n",
       "2676  https://tiki.vn//o-khoa-vali/c8389?src=c.914.h...  2125\n",
       "2677  https://tiki.vn//o-khoa/c2154?src=c.1883.hambu...   562\n",
       "2678  https://tiki.vn//o-dia-quang/c28908?src=c.1846...   280\n",
       "2679  https://tiki.vn//on-ap-bien-ap/c11854?src=c.18...   558\n",
       "\n",
       "[2680 rows x 2 columns]"
      ]
     },
     "execution_count": 233,
     "metadata": {},
     "output_type": "execute_result"
    }
   ],
   "source": [
    "sub_categories"
   ]
  },
  {
   "cell_type": "code",
   "execution_count": null,
   "metadata": {},
   "outputs": [],
   "source": [
    "# Pages in range len(sub_categories) will return the link one by one \n",
    "for pages in range(0, len(sub_categories)):\n",
    "    for i in range(1, 7000):\n",
    "        #The nested loop runs first, hence we can switch page here... \n",
    "        #Got scammed... The max page is 23, even for a category with \"300k products\"\n",
    "        try:\n",
    "            # The .iloc returns the actual value of the table. See above for refrence\n",
    "            \n",
    "            r = requests.get(str(sub_categories['url'].iloc[pages]) + '&page=' +str(i))\n",
    "            soup = BeautifulSoup(r.text, 'html.parser')\n",
    "            products = soup.find_all('div', {'class':'product-item'})\n",
    "        except:\n",
    "            continue\n",
    "        # if we can't find any products, we skip the rest of the function and move onto the next i value...\n",
    "        \n",
    "        if len(products) == 0:\n",
    "            break\n",
    "        # if len of products == 0, that means we're at the end... of the road. Break nested loop, and move to next\n",
    "        # url \n",
    "            \n",
    "        result = get_product(save_db = True)\n",
    "        sleep(randint(2,6))   \n",
    "    \n",
    "        #randint, courtesy of Jack Cao! "
   ]
  },
  {
   "cell_type": "code",
   "execution_count": 291,
   "metadata": {},
   "outputs": [],
   "source": [
    "import seaborn as sns\n",
    "import matplotlib.pyplot as plt"
   ]
  },
  {
   "cell_type": "code",
   "execution_count": 228,
   "metadata": {},
   "outputs": [
    {
     "data": {
      "text/html": [
       "<div>\n",
       "<style scoped>\n",
       "    .dataframe tbody tr th:only-of-type {\n",
       "        vertical-align: middle;\n",
       "    }\n",
       "\n",
       "    .dataframe tbody tr th {\n",
       "        vertical-align: top;\n",
       "    }\n",
       "\n",
       "    .dataframe thead th {\n",
       "        text-align: right;\n",
       "    }\n",
       "</style>\n",
       "<table border=\"1\" class=\"dataframe\">\n",
       "  <thead>\n",
       "    <tr style=\"text-align: right;\">\n",
       "      <th></th>\n",
       "      <th>name</th>\n",
       "    </tr>\n",
       "  </thead>\n",
       "  <tbody>\n",
       "    <tr>\n",
       "      <th>0</th>\n",
       "      <td>Điện Thoại - Máy Tính Bảng</td>\n",
       "    </tr>\n",
       "    <tr>\n",
       "      <th>1</th>\n",
       "      <td>Điện Tử - Điện Lạnh</td>\n",
       "    </tr>\n",
       "    <tr>\n",
       "      <th>2</th>\n",
       "      <td>Phụ Kiện - Thiết Bị Số</td>\n",
       "    </tr>\n",
       "    <tr>\n",
       "      <th>3</th>\n",
       "      <td>Laptop - Thiết bị IT</td>\n",
       "    </tr>\n",
       "    <tr>\n",
       "      <th>4</th>\n",
       "      <td>Máy Ảnh - Quay Phim</td>\n",
       "    </tr>\n",
       "    <tr>\n",
       "      <th>...</th>\n",
       "      <td>...</td>\n",
       "    </tr>\n",
       "    <tr>\n",
       "      <th>3242</th>\n",
       "      <td>GYM(28)</td>\n",
       "    </tr>\n",
       "    <tr>\n",
       "      <th>3243</th>\n",
       "      <td>Yoga(3)</td>\n",
       "    </tr>\n",
       "    <tr>\n",
       "      <th>3244</th>\n",
       "      <td>Ca nhạc - Phim - Kịch(2)</td>\n",
       "    </tr>\n",
       "    <tr>\n",
       "      <th>3245</th>\n",
       "      <td>Studio - Chụp ảnh(47)</td>\n",
       "    </tr>\n",
       "    <tr>\n",
       "      <th>3246</th>\n",
       "      <td>Vui chơi - Giải trí(39)</td>\n",
       "    </tr>\n",
       "  </tbody>\n",
       "</table>\n",
       "<p>3247 rows × 1 columns</p>\n",
       "</div>"
      ],
      "text/plain": [
       "                            name\n",
       "0     Điện Thoại - Máy Tính Bảng\n",
       "1            Điện Tử - Điện Lạnh\n",
       "2         Phụ Kiện - Thiết Bị Số\n",
       "3           Laptop - Thiết bị IT\n",
       "4            Máy Ảnh - Quay Phim\n",
       "...                          ...\n",
       "3242                     GYM(28)\n",
       "3243                     Yoga(3)\n",
       "3244    Ca nhạc - Phim - Kịch(2)\n",
       "3245       Studio - Chụp ảnh(47)\n",
       "3246     Vui chơi - Giải trí(39)\n",
       "\n",
       "[3247 rows x 1 columns]"
      ]
     },
     "execution_count": 228,
     "metadata": {},
     "output_type": "execute_result"
    }
   ],
   "source": [
    "#3247 categories \n",
    "pd.read_sql('SELECT name FROM categories', conn)"
   ]
  },
  {
   "cell_type": "code",
   "execution_count": 298,
   "metadata": {},
   "outputs": [
    {
     "data": {
      "text/html": [
       "<div>\n",
       "<style scoped>\n",
       "    .dataframe tbody tr th:only-of-type {\n",
       "        vertical-align: middle;\n",
       "    }\n",
       "\n",
       "    .dataframe tbody tr th {\n",
       "        vertical-align: top;\n",
       "    }\n",
       "\n",
       "    .dataframe thead th {\n",
       "        text-align: right;\n",
       "    }\n",
       "</style>\n",
       "<table border=\"1\" class=\"dataframe\">\n",
       "  <thead>\n",
       "    <tr style=\"text-align: right;\">\n",
       "      <th></th>\n",
       "      <th>name</th>\n",
       "      <th>Final</th>\n",
       "    </tr>\n",
       "  </thead>\n",
       "  <tbody>\n",
       "    <tr>\n",
       "      <th>0</th>\n",
       "      <td>3D(5161)</td>\n",
       "      <td>97000</td>\n",
       "    </tr>\n",
       "    <tr>\n",
       "      <th>1</th>\n",
       "      <td>3D(5161)</td>\n",
       "      <td>43000</td>\n",
       "    </tr>\n",
       "    <tr>\n",
       "      <th>2</th>\n",
       "      <td>3D(5161)</td>\n",
       "      <td>69000</td>\n",
       "    </tr>\n",
       "    <tr>\n",
       "      <th>3</th>\n",
       "      <td>3D(5161)</td>\n",
       "      <td>49000</td>\n",
       "    </tr>\n",
       "    <tr>\n",
       "      <th>4</th>\n",
       "      <td>3D(5161)</td>\n",
       "      <td>139000</td>\n",
       "    </tr>\n",
       "    <tr>\n",
       "      <th>...</th>\n",
       "      <td>...</td>\n",
       "      <td>...</td>\n",
       "    </tr>\n",
       "    <tr>\n",
       "      <th>95</th>\n",
       "      <td>Action &amp; Adventure(158)</td>\n",
       "      <td>112800</td>\n",
       "    </tr>\n",
       "    <tr>\n",
       "      <th>96</th>\n",
       "      <td>Action &amp; Adventure(158)</td>\n",
       "      <td>238700</td>\n",
       "    </tr>\n",
       "    <tr>\n",
       "      <th>97</th>\n",
       "      <td>Action &amp; Adventure(158)</td>\n",
       "      <td>164500</td>\n",
       "    </tr>\n",
       "    <tr>\n",
       "      <th>98</th>\n",
       "      <td>Action &amp; Adventure(158)</td>\n",
       "      <td>544500</td>\n",
       "    </tr>\n",
       "    <tr>\n",
       "      <th>99</th>\n",
       "      <td>Action &amp; Adventure(158)</td>\n",
       "      <td>164500</td>\n",
       "    </tr>\n",
       "  </tbody>\n",
       "</table>\n",
       "<p>100 rows × 2 columns</p>\n",
       "</div>"
      ],
      "text/plain": [
       "                       name   Final\n",
       "0                  3D(5161)   97000\n",
       "1                  3D(5161)   43000\n",
       "2                  3D(5161)   69000\n",
       "3                  3D(5161)   49000\n",
       "4                  3D(5161)  139000\n",
       "..                      ...     ...\n",
       "95  Action & Adventure(158)  112800\n",
       "96  Action & Adventure(158)  238700\n",
       "97  Action & Adventure(158)  164500\n",
       "98  Action & Adventure(158)  544500\n",
       "99  Action & Adventure(158)  164500\n",
       "\n",
       "[100 rows x 2 columns]"
      ]
     },
     "execution_count": 298,
     "metadata": {},
     "output_type": "execute_result"
    }
   ],
   "source": [
    "#Listing price/categories \n",
    "\n",
    "price_categories = pd.read_sql('''\n",
    "SELECT c.name, p.final\n",
    "FROM categories AS c\n",
    "LEFT JOIN product AS p on c.id = p.cat_id\n",
    "WHERE p.final IS NOT NULL\n",
    "LIMIT 100''', conn)\n",
    "\n",
    "price_categories"
   ]
  },
  {
   "cell_type": "code",
   "execution_count": 311,
   "metadata": {},
   "outputs": [
    {
     "data": {
      "text/html": [
       "<div>\n",
       "<style scoped>\n",
       "    .dataframe tbody tr th:only-of-type {\n",
       "        vertical-align: middle;\n",
       "    }\n",
       "\n",
       "    .dataframe tbody tr th {\n",
       "        vertical-align: top;\n",
       "    }\n",
       "\n",
       "    .dataframe thead th {\n",
       "        text-align: right;\n",
       "    }\n",
       "</style>\n",
       "<table border=\"1\" class=\"dataframe\">\n",
       "  <thead>\n",
       "    <tr style=\"text-align: right;\">\n",
       "      <th></th>\n",
       "      <th>Title</th>\n",
       "      <th>Final</th>\n",
       "      <th>Brand</th>\n",
       "    </tr>\n",
       "  </thead>\n",
       "  <tbody>\n",
       "    <tr>\n",
       "      <th>0</th>\n",
       "      <td>Bộ Phát Wifi Mesh TP-Link Deco M5 AC1300 MU-MI...</td>\n",
       "      <td>3950000</td>\n",
       "      <td>TP-Link</td>\n",
       "    </tr>\n",
       "    <tr>\n",
       "      <th>1</th>\n",
       "      <td>Bộ Phát Wifi Mesh Băng Tần Kép Asus MAP-AC1750...</td>\n",
       "      <td>7850000</td>\n",
       "      <td>Asus</td>\n",
       "    </tr>\n",
       "    <tr>\n",
       "      <th>2</th>\n",
       "      <td>Bộ Phát Wifi Mesh D-Link COVR-C1203 MU-MIMO - ...</td>\n",
       "      <td>3350000</td>\n",
       "      <td>D-Link</td>\n",
       "    </tr>\n",
       "    <tr>\n",
       "      <th>3</th>\n",
       "      <td>Bộ Phát Wifi Mesh TP-Link Deco M4 AC1200 MU-MI...</td>\n",
       "      <td>2145000</td>\n",
       "      <td>TP-Link</td>\n",
       "    </tr>\n",
       "    <tr>\n",
       "      <th>4</th>\n",
       "      <td>Bộ Phát Wifi Mesh Băng Tần Kép TP-Link Deco E4...</td>\n",
       "      <td>1639000</td>\n",
       "      <td>TP-Link</td>\n",
       "    </tr>\n",
       "    <tr>\n",
       "      <th>...</th>\n",
       "      <td>...</td>\n",
       "      <td>...</td>\n",
       "      <td>...</td>\n",
       "    </tr>\n",
       "    <tr>\n",
       "      <th>93</th>\n",
       "      <td>Bộ phát Wifi trong nhà ENGENIUS EWS357AP Hàng ...</td>\n",
       "      <td>9450000</td>\n",
       "      <td>Engenius</td>\n",
       "    </tr>\n",
       "    <tr>\n",
       "      <th>94</th>\n",
       "      <td>Bộ phát Wifi trong nhà ENGENIUS EWS511AP Hàng ...</td>\n",
       "      <td>2450000</td>\n",
       "      <td>Engenius</td>\n",
       "    </tr>\n",
       "    <tr>\n",
       "      <th>95</th>\n",
       "      <td>Bộ phát Wifi trong nhà ENGENIUS EWS550AP Hàng ...</td>\n",
       "      <td>3920000</td>\n",
       "      <td>Engenius</td>\n",
       "    </tr>\n",
       "    <tr>\n",
       "      <th>96</th>\n",
       "      <td>Bộ phát Wifi trong nhà ENGENIUS EWS360AP Hàng ...</td>\n",
       "      <td>4850000</td>\n",
       "      <td>Engenius</td>\n",
       "    </tr>\n",
       "    <tr>\n",
       "      <th>97</th>\n",
       "      <td>Bộ Phát Sóng Wifi Mercusys 3 Râu MW305N Chuẩn ...</td>\n",
       "      <td>223000</td>\n",
       "      <td>Mercusys</td>\n",
       "    </tr>\n",
       "  </tbody>\n",
       "</table>\n",
       "<p>98 rows × 3 columns</p>\n",
       "</div>"
      ],
      "text/plain": [
       "                                                Title    Final     Brand\n",
       "0   Bộ Phát Wifi Mesh TP-Link Deco M5 AC1300 MU-MI...  3950000   TP-Link\n",
       "1   Bộ Phát Wifi Mesh Băng Tần Kép Asus MAP-AC1750...  7850000      Asus\n",
       "2   Bộ Phát Wifi Mesh D-Link COVR-C1203 MU-MIMO - ...  3350000    D-Link\n",
       "3   Bộ Phát Wifi Mesh TP-Link Deco M4 AC1200 MU-MI...  2145000   TP-Link\n",
       "4   Bộ Phát Wifi Mesh Băng Tần Kép TP-Link Deco E4...  1639000   TP-Link\n",
       "..                                                ...      ...       ...\n",
       "93  Bộ phát Wifi trong nhà ENGENIUS EWS357AP Hàng ...  9450000  Engenius\n",
       "94  Bộ phát Wifi trong nhà ENGENIUS EWS511AP Hàng ...  2450000  Engenius\n",
       "95  Bộ phát Wifi trong nhà ENGENIUS EWS550AP Hàng ...  3920000  Engenius\n",
       "96  Bộ phát Wifi trong nhà ENGENIUS EWS360AP Hàng ...  4850000  Engenius\n",
       "97  Bộ Phát Sóng Wifi Mercusys 3 Râu MW305N Chuẩn ...   223000  Mercusys\n",
       "\n",
       "[98 rows x 3 columns]"
      ]
     },
     "execution_count": 311,
     "metadata": {},
     "output_type": "execute_result"
    }
   ],
   "source": [
    "#Which categories have the most expensive item \n",
    "most_expensive_categories = pd.read_sql('''\n",
    "SELECT p.title, p.final, p.brand\n",
    "FROM product AS p\n",
    "WHERE title like 'bộ phát%'\n",
    "''', conn)\n",
    "\n",
    "most_expensive_categories"
   ]
  },
  {
   "cell_type": "code",
   "execution_count": 315,
   "metadata": {},
   "outputs": [
    {
     "data": {
      "text/plain": [
       "<AxesSubplot:xlabel='Title', ylabel='Final'>"
      ]
     },
     "execution_count": 315,
     "metadata": {},
     "output_type": "execute_result"
    },
    {
     "data": {
      "image/png": "[encoded data removed]",
      "text/plain": [
       "<Figure size 1440x1080 with 1 Axes>"
      ]
     },
     "metadata": {
      "needs_background": "light"
     },
     "output_type": "display_data"
    }
   ],
   "source": [
    "plt.figure(figsize = (20,15))\n",
    "sns.scatterplot(y = 'Final', x = 'Title', hue = 'Brand', data = most_expensive_categories)"
   ]
  },
  {
   "cell_type": "code",
   "execution_count": 295,
   "metadata": {},
   "outputs": [
    {
     "data": {
      "text/plain": [
       "<AxesSubplot:xlabel='name', ylabel='Final'>"
      ]
     },
     "execution_count": 295,
     "metadata": {},
     "output_type": "execute_result"
    },
    {
     "data": {
      "image/png": "[encoded data removed]",
      "text/plain": [
       "<Figure size 1440x1080 with 1 Axes>"
      ]
     },
     "metadata": {
      "needs_background": "light"
     },
     "output_type": "display_data"
    }
   ],
   "source": [
    "plt.figure(figsize=(20,15))\n",
    "sns.barplot(y = 'Final', x = 'name', data = most_expensive_categories)"
   ]
  },
  {
   "cell_type": "code",
   "execution_count": 282,
   "metadata": {},
   "outputs": [
    {
     "data": {
      "text/html": [
       "<div>\n",
       "<style scoped>\n",
       "    .dataframe tbody tr th:only-of-type {\n",
       "        vertical-align: middle;\n",
       "    }\n",
       "\n",
       "    .dataframe tbody tr th {\n",
       "        vertical-align: top;\n",
       "    }\n",
       "\n",
       "    .dataframe thead th {\n",
       "        text-align: right;\n",
       "    }\n",
       "</style>\n",
       "<table border=\"1\" class=\"dataframe\">\n",
       "  <thead>\n",
       "    <tr style=\"text-align: right;\">\n",
       "      <th></th>\n",
       "      <th>name</th>\n",
       "      <th>Discounted</th>\n",
       "    </tr>\n",
       "  </thead>\n",
       "  <tbody>\n",
       "    <tr>\n",
       "      <th>0</th>\n",
       "      <td>Bông tai bạc nữ(999)</td>\n",
       "      <td>-98</td>\n",
       "    </tr>\n",
       "    <tr>\n",
       "      <th>1</th>\n",
       "      <td>Dụng cụ sửa chữa khác(5753)</td>\n",
       "      <td>-97</td>\n",
       "    </tr>\n",
       "    <tr>\n",
       "      <th>2</th>\n",
       "      <td>Tai Nghe Bluetooth Nhét Tai(1291)</td>\n",
       "      <td>-97</td>\n",
       "    </tr>\n",
       "    <tr>\n",
       "      <th>3</th>\n",
       "      <td>Kính mát nữ(2810)</td>\n",
       "      <td>-96</td>\n",
       "    </tr>\n",
       "    <tr>\n",
       "      <th>4</th>\n",
       "      <td>Pin Sạc Dự Phòng Di Động(1169)</td>\n",
       "      <td>-96</td>\n",
       "    </tr>\n",
       "    <tr>\n",
       "      <th>5</th>\n",
       "      <td>Adapter Sạc - Củ Sạc Thường(1125)</td>\n",
       "      <td>-95</td>\n",
       "    </tr>\n",
       "    <tr>\n",
       "      <th>6</th>\n",
       "      <td>Quần lót nữ(2951)</td>\n",
       "      <td>-95</td>\n",
       "    </tr>\n",
       "    <tr>\n",
       "      <th>7</th>\n",
       "      <td>Quần, Váy bé gái(650)</td>\n",
       "      <td>-95</td>\n",
       "    </tr>\n",
       "    <tr>\n",
       "      <th>8</th>\n",
       "      <td>Dây Cáp Sạc Micro USB(771)</td>\n",
       "      <td>-94</td>\n",
       "    </tr>\n",
       "    <tr>\n",
       "      <th>9</th>\n",
       "      <td>Máy rửa mặt(146)</td>\n",
       "      <td>-94</td>\n",
       "    </tr>\n",
       "  </tbody>\n",
       "</table>\n",
       "</div>"
      ],
      "text/plain": [
       "                                name  Discounted\n",
       "0               Bông tai bạc nữ(999)         -98\n",
       "1        Dụng cụ sửa chữa khác(5753)         -97\n",
       "2  Tai Nghe Bluetooth Nhét Tai(1291)         -97\n",
       "3                  Kính mát nữ(2810)         -96\n",
       "4     Pin Sạc Dự Phòng Di Động(1169)         -96\n",
       "5  Adapter Sạc - Củ Sạc Thường(1125)         -95\n",
       "6                  Quần lót nữ(2951)         -95\n",
       "7              Quần, Váy bé gái(650)         -95\n",
       "8         Dây Cáp Sạc Micro USB(771)         -94\n",
       "9                   Máy rửa mặt(146)         -94"
      ]
     },
     "execution_count": 282,
     "metadata": {},
     "output_type": "execute_result"
    }
   ],
   "source": [
    "#WHICH categories have the highest discount\n",
    "highest_discount_categories = pd.read_sql('''\n",
    "SELECT c.name, p.discounted \n",
    "FROM categories AS c\n",
    "LEFT JOIN product as p ON c.id = p.cat_id\n",
    "WHERE p.discounted IS NOT NULL\n",
    "ORDER BY p.discounted ASC\n",
    "LIMIT 10''', conn)\n",
    "\n",
    "#Know where I'm getting my girl earrings  \n",
    "highest_discount_categories"
   ]
  },
  {
   "cell_type": "code",
   "execution_count": 284,
   "metadata": {},
   "outputs": [
    {
     "data": {
      "text/html": [
       "<div>\n",
       "<style scoped>\n",
       "    .dataframe tbody tr th:only-of-type {\n",
       "        vertical-align: middle;\n",
       "    }\n",
       "\n",
       "    .dataframe tbody tr th {\n",
       "        vertical-align: top;\n",
       "    }\n",
       "\n",
       "    .dataframe thead th {\n",
       "        text-align: right;\n",
       "    }\n",
       "</style>\n",
       "<table border=\"1\" class=\"dataframe\">\n",
       "  <thead>\n",
       "    <tr style=\"text-align: right;\">\n",
       "      <th></th>\n",
       "      <th>name</th>\n",
       "      <th>Discounted</th>\n",
       "    </tr>\n",
       "  </thead>\n",
       "  <tbody>\n",
       "    <tr>\n",
       "      <th>0</th>\n",
       "      <td>Access Point - Điểm Truy Cập(71)</td>\n",
       "      <td>-1</td>\n",
       "    </tr>\n",
       "    <tr>\n",
       "      <th>1</th>\n",
       "      <td>Access Point - Điểm Truy Cập(71)</td>\n",
       "      <td>-1</td>\n",
       "    </tr>\n",
       "    <tr>\n",
       "      <th>2</th>\n",
       "      <td>Adapter Sạc - Cáp Sạc Cho Thiết Bị Đeo(51)</td>\n",
       "      <td>-1</td>\n",
       "    </tr>\n",
       "    <tr>\n",
       "      <th>3</th>\n",
       "      <td>Adapter Sạc - Củ Sạc Thường(1125)</td>\n",
       "      <td>-1</td>\n",
       "    </tr>\n",
       "    <tr>\n",
       "      <th>4</th>\n",
       "      <td>Adapter Sạc - Củ Sạc Thường(1125)</td>\n",
       "      <td>-1</td>\n",
       "    </tr>\n",
       "    <tr>\n",
       "      <th>5</th>\n",
       "      <td>Adapter Sạc - Củ Sạc Thường(1125)</td>\n",
       "      <td>-1</td>\n",
       "    </tr>\n",
       "    <tr>\n",
       "      <th>6</th>\n",
       "      <td>Adapter Sạc - Củ Sạc Xe Hơi(288)</td>\n",
       "      <td>-1</td>\n",
       "    </tr>\n",
       "    <tr>\n",
       "      <th>7</th>\n",
       "      <td>Adapter Sạc Laptop(1023)</td>\n",
       "      <td>-1</td>\n",
       "    </tr>\n",
       "    <tr>\n",
       "      <th>8</th>\n",
       "      <td>Adapter Sạc Laptop(1023)</td>\n",
       "      <td>-1</td>\n",
       "    </tr>\n",
       "    <tr>\n",
       "      <th>9</th>\n",
       "      <td>Adapter Sạc Laptop(1023)</td>\n",
       "      <td>-1</td>\n",
       "    </tr>\n",
       "  </tbody>\n",
       "</table>\n",
       "</div>"
      ],
      "text/plain": [
       "                                         name  Discounted\n",
       "0            Access Point - Điểm Truy Cập(71)          -1\n",
       "1            Access Point - Điểm Truy Cập(71)          -1\n",
       "2  Adapter Sạc - Cáp Sạc Cho Thiết Bị Đeo(51)          -1\n",
       "3           Adapter Sạc - Củ Sạc Thường(1125)          -1\n",
       "4           Adapter Sạc - Củ Sạc Thường(1125)          -1\n",
       "5           Adapter Sạc - Củ Sạc Thường(1125)          -1\n",
       "6            Adapter Sạc - Củ Sạc Xe Hơi(288)          -1\n",
       "7                    Adapter Sạc Laptop(1023)          -1\n",
       "8                    Adapter Sạc Laptop(1023)          -1\n",
       "9                    Adapter Sạc Laptop(1023)          -1"
      ]
     },
     "execution_count": 284,
     "metadata": {},
     "output_type": "execute_result"
    }
   ],
   "source": [
    "#Which categories have the lowest discount\n",
    "lowest_discount_categories = pd.read_sql('''\n",
    "SELECT c.name, p.discounted \n",
    "FROM categories AS c\n",
    "LEFT JOIN product as p ON c.id = p.cat_id\n",
    "WHERE p.discounted IS NOT NULL\n",
    "ORDER BY p.discounted DESC\n",
    "LIMIT 10''', conn)\n",
    "\n",
    "#So a lot is at -1% discount... \n",
    "lowest_discount_categories"
   ]
  },
  {
   "cell_type": "code",
   "execution_count": null,
   "metadata": {},
   "outputs": [],
   "source": []
  }
 ],
 "metadata": {
  "kernelspec": {
   "display_name": "Python 3",
   "language": "python",
   "name": "python3"
  },
  "language_info": {
   "codemirror_mode": {
    "name": "ipython",
    "version": 3
   },
   "file_extension": ".py",
   "mimetype": "text/x-python",
   "name": "python",
   "nbconvert_exporter": "python",
   "pygments_lexer": "ipython3",
   "version": "3.7.8"
  }
 },
 "nbformat": 4,
 "nbformat_minor": 4
}
