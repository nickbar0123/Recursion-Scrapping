{
 "cells": [
  {
   "cell_type": "code",
   "execution_count": 1,
   "metadata": {},
   "outputs": [],
   "source": [
    "from bs4 import BeautifulSoup\n",
    "import time\n",
    "import pandas as pd\n",
    "import requests\n",
    "import sqlite3"
   ]
  },
  {
   "cell_type": "code",
   "execution_count": 3,
   "metadata": {},
   "outputs": [],
   "source": [
    "#Function to get main url Tiki\n",
    "def get_url(url):\n",
    "    request = requests.get(url)\n",
    "    soup = BeautifulSoup(request.text, 'html.parser')\n",
    "    return soup"
   ]
  },
  {
   "cell_type": "code",
   "execution_count": 48,
   "metadata": {},
   "outputs": [
    {
     "data": {
      "text/plain": [
       "[<a class=\"MenuItem__MenuLink-sc-181aa19-1 fKvTQu\" href=\"https://tiki.vn/dien-thoai-may-tinh-bang/c1789?src=c.1789.hamburger_menu_fly_out_banner\"><span class=\"icon-wrap\"><i class=\"icon-main-menu-cellphone lv1-icon tikicon\"></i></span><span class=\"text\">Điện Thoại - Máy Tính Bảng</span></a>,\n",
       " <a class=\"MenuItem__MenuLink-sc-181aa19-1 fKvTQu\" href=\"https://tiki.vn/tivi-thiet-bi-nghe-nhin/c4221?src=c.4221.hamburger_menu_fly_out_banner\"><span class=\"icon-wrap\"><i class=\"icon-main-menu-tv lv1-icon tikicon\"></i></span><span class=\"text\">Điện Tử - Điện Lạnh</span></a>,\n",
       " <a class=\"MenuItem__MenuLink-sc-181aa19-1 fKvTQu\" href=\"https://tiki.vn/thiet-bi-kts-phu-kien-so/c1815?src=c.1815.hamburger_menu_fly_out_banner\"><span class=\"icon-wrap\"><i class=\"icon-main-menu-headphone lv1-icon tikicon\"></i></span><span class=\"text\">Phụ Kiện - Thiết Bị Số</span></a>,\n",
       " <a class=\"MenuItem__MenuLink-sc-181aa19-1 fKvTQu\" href=\"https://tiki.vn/laptop-may-vi-tinh/c1846?src=c.1846.hamburger_menu_fly_out_banner\"><span class=\"icon-wrap\"><i class=\"icon-main-menu-laptop lv1-icon tikicon\"></i></span><span class=\"text\">Laptop - Thiết bị IT</span></a>,\n",
       " <a class=\"MenuItem__MenuLink-sc-181aa19-1 fKvTQu\" href=\"https://tiki.vn/may-anh/c1801?src=c.1801.hamburger_menu_fly_out_banner\"><span class=\"icon-wrap\"><i class=\"icon-main-menu-camera lv1-icon tikicon\"></i></span><span class=\"text\">Máy Ảnh - Quay Phim</span></a>,\n",
       " <a class=\"MenuItem__MenuLink-sc-181aa19-1 fKvTQu\" href=\"https://tiki.vn/dien-gia-dung/c1882?src=c.1882.hamburger_menu_fly_out_banner\"><span class=\"icon-wrap\"><i class=\"icon-main-menu-electronic lv1-icon tikicon\"></i></span><span class=\"text\">Điện Gia Dụng</span></a>,\n",
       " <a class=\"MenuItem__MenuLink-sc-181aa19-1 fKvTQu\" href=\"https://tiki.vn/nha-cua-doi-song/c1883?src=c.1883.hamburger_menu_fly_out_banner\"><span class=\"icon-wrap\"><i class=\"icon-main-menu-pan lv1-icon tikicon\"></i></span><span class=\"text\">Nhà Cửa Đời Sống</span></a>,\n",
       " <a class=\"MenuItem__MenuLink-sc-181aa19-1 fKvTQu\" href=\"https://tiki.vn/bach-hoa-online/c4384?src=c.4384.hamburger_menu_fly_out_banner\"><span class=\"icon-wrap\"><i class=\"icon-main-menu-sprayer lv1-icon tikicon\"></i></span><span class=\"text\">Hàng Tiêu Dùng - Thực Phẩm</span></a>,\n",
       " <a class=\"MenuItem__MenuLink-sc-181aa19-1 fKvTQu\" href=\"https://tiki.vn/me-va-be/c2549?src=c.2549.hamburger_menu_fly_out_banner\"><span class=\"icon-wrap\"><i class=\"icon-main-menu-bottle lv1-icon tikicon\"></i></span><span class=\"text\">Đồ chơi, Mẹ &amp; Bé</span></a>,\n",
       " <a class=\"MenuItem__MenuLink-sc-181aa19-1 fKvTQu\" href=\"https://tiki.vn/lam-dep-suc-khoe/c1520?src=c.1520.hamburger_menu_fly_out_banner\"><span class=\"icon-wrap\"><i class=\"icon-main-menu-lipsticks lv1-icon tikicon\"></i></span><span class=\"text\">Làm Đẹp - Sức Khỏe</span></a>,\n",
       " <a class=\"MenuItem__MenuLink-sc-181aa19-1 fKvTQu\" href=\"https://tiki.vn/thoi-trang/c914?src=c.914.hamburger_menu_fly_out_banner\"><span class=\"icon-wrap\"><i class=\"icon-main-menu-tshirt lv1-icon tikicon\"></i></span><span class=\"text\">Thời trang - Phụ kiện</span></a>,\n",
       " <a class=\"MenuItem__MenuLink-sc-181aa19-1 fKvTQu\" href=\"https://tiki.vn/the-thao/c1975?src=c.1975.hamburger_menu_fly_out_banner\"><span class=\"icon-wrap\"><i class=\"icon-main-menu-sport lv1-icon tikicon\"></i></span><span class=\"text\">Thể Thao - Dã Ngoại</span></a>,\n",
       " <a class=\"MenuItem__MenuLink-sc-181aa19-1 fKvTQu\" href=\"https://tiki.vn/o-to-xe-may-xe-dap/c8594?src=c.8594.hamburger_menu_fly_out_banner\"><span class=\"icon-wrap\"><i class=\"icon-main-menu-bike lv1-icon tikicon\"></i></span><span class=\"text\">Xe Máy, Ô tô, Xe Đạp</span></a>,\n",
       " <a class=\"MenuItem__MenuLink-sc-181aa19-1 fKvTQu\" href=\"https://tiki.vn/hang-quoc-te/c17166?src=c.17166.hamburger_menu_fly_out_banner\"><span class=\"icon-wrap\"><i class=\"icon-main-menu-global lv1-icon tikicon\"></i></span><span class=\"text\">Hàng quốc tế</span><i class=\"addon-icon tikicon icon-new\"></i></a>,\n",
       " <a class=\"MenuItem__MenuLink-sc-181aa19-1 fKvTQu\" href=\"https://tiki.vn/nha-sach-tiki/c8322?src=c.8322.hamburger_menu_fly_out_banner\"><span class=\"icon-wrap\"><i class=\"icon-main-menu-book lv1-icon tikicon\"></i></span><span class=\"text\">Sách, VPP &amp; Quà Tặng</span></a>,\n",
       " <a class=\"MenuItem__MenuLink-sc-181aa19-1 fKvTQu\" href=\"https://tiki.vn/voucher-dich-vu/c11312?src=c.11312.hamburger_menu_fly_out_banner\"><span class=\"icon-wrap\"><i class=\"icon-main-menu-voucher lv1-icon tikicon\"></i></span><span class=\"text\">Voucher - Dịch Vụ - Thẻ Cào</span><i class=\"addon-icon tikicon icon-hot\"></i></a>]"
      ]
     },
     "execution_count": 48,
     "metadata": {},
     "output_type": "execute_result"
    }
   ],
   "source": [
    "#Finding tag for categories \n",
    "link = get_url('https://tiki.vn/')\n",
    "link.find_all('a', {'class' : 'MenuItem__MenuLink-sc-181aa19-1 fKvTQu'})"
   ]
  },
  {
   "cell_type": "code",
   "execution_count": 12,
   "metadata": {},
   "outputs": [],
   "source": [
    "conn = sqlite3.connect('tiki.db')\n",
    "cur = conn.cursor()"
   ]
  },
  {
   "cell_type": "code",
   "execution_count": 90,
   "metadata": {},
   "outputs": [],
   "source": [
    "#Creating a table named Categories\n",
    "def create_table():\n",
    "    query = '''\n",
    "    CREATE TABLE IF NOT EXISTS categories \n",
    "    (id INTEGER PRIMARY KEY AUTOINCREMENT,\n",
    "    name VARCHAR(256),\n",
    "    url TEXT,\n",
    "    parent_id INTEGER\n",
    "    )'''\n",
    "    try:\n",
    "        conn.execute(query)\n",
    "        conn.commit()\n",
    "    except Exception as err:\n",
    "        print('Error', err)\n",
    "\n",
    "create_table()"
   ]
  },
  {
   "cell_type": "code",
   "execution_count": 91,
   "metadata": {},
   "outputs": [],
   "source": [
    "class Category():\n",
    "    def __init__(self, name, url, parent_id = None, cat_id = None):\n",
    "        self.cat_id = cat_id\n",
    "        self.name = name\n",
    "        self.url = url\n",
    "        self.parent_id = parent_id\n",
    "        \n",
    "    \n",
    "    def __repr__(self):\n",
    "        return f\"ID: {self.cat_id}, Name: {self.name}, URL: {self.url}, Parent: {self.parent_id}\"\n",
    "    \n",
    "    def save_into_db(self):\n",
    "        query = '''\n",
    "        INSERT INTO categories\n",
    "        (name, url, parent_id)\n",
    "        VALUES (?,?,?)'''\n",
    "        \n",
    "        value = (self.name, self.url, self.parent_id)\n",
    "        \n",
    "        try:\n",
    "            cur.execute(query, value)\n",
    "            self.cat_id = cur.lastrowid\n",
    "            conn.commit()\n",
    "        except Exception as err:\n",
    "            print(\"Error\")"
   ]
  },
  {
   "cell_type": "code",
   "execution_count": 80,
   "metadata": {},
   "outputs": [],
   "source": [
    "#Function to get main categories\n",
    "def main(save_db = False):\n",
    "    soup = get_url('https://tiki.vn/')\n",
    "    \n",
    "    result = []\n",
    "    \n",
    "    for a in soup.find_all('a', {'class': 'MenuItem__MenuLink-sc-181aa19-1 fKvTQu'}):\n",
    "        name = a.find('span', {'class': 'text'}).text\n",
    "        url = a['href']\n",
    "        main_cat = Category(name, url)\n",
    "        \n",
    "        if save_db:\n",
    "            main_cat.save_into_db()\n",
    "        result.append(main_cat)\n",
    "        \n",
    "    return result"
   ]
  },
  {
   "cell_type": "code",
   "execution_count": 97,
   "metadata": {},
   "outputs": [],
   "source": [
    "main_categories = main(save_db = True)"
   ]
  },
  {
   "cell_type": "code",
   "execution_count": 75,
   "metadata": {},
   "outputs": [
    {
     "name": "stdout",
     "output_type": "stream",
     "text": [
      "16\n"
     ]
    }
   ],
   "source": [
    "print(len(main_categories))\n",
    "#16 main categories"
   ]
  },
  {
   "cell_type": "code",
   "execution_count": 157,
   "metadata": {},
   "outputs": [],
   "source": [
    "import re\n",
    "\n",
    "def sub_categories(parent_category, save_db = False):\n",
    "    parent_url = parent_category.url\n",
    "    result = []\n",
    "    \n",
    "    try:\n",
    "        soup = get_url(parent_url)\n",
    "        div_children = soup.find_all('div', {'class': 'list-group-item is-child'})\n",
    "        \n",
    "        for div in div_children:\n",
    "            name = div.a.text.strip()\n",
    "            \n",
    "            name = re.sub('\\W+\\d+\\W','', name) #remove digit + '()'\n",
    "            name = re.sub('\\s{2,}','', name) #remove empty space \n",
    "            \n",
    "            sub_url = 'https://tiki.vn/' + div.a['href']\n",
    "            cat = Category(name, sub_url, parent_category.cat_id)\n",
    "            \n",
    "            if save_db:\n",
    "                cat.save_into_db()\n",
    "                \n",
    "            result.append(cat)\n",
    "                \n",
    "    except Exception as err:\n",
    "        print(\"Error with children categories\", err)\n",
    "    \n",
    "    return result"
   ]
  },
  {
   "cell_type": "code",
   "execution_count": 163,
   "metadata": {},
   "outputs": [],
   "source": [
    "def get_all(categories):\n",
    "    if len(categories) == 0:\n",
    "        return\n",
    "    \n",
    "    for item in categories:\n",
    "        children_categories = sub_categories(item, save_db = True)\n",
    "        time.sleep(2)\n",
    "        print(children_categories)\n",
    "        get_all(children_categories)"
   ]
  },
  {
   "cell_type": "code",
   "execution_count": null,
   "metadata": {},
   "outputs": [],
   "source": [
    "get_all(main_categories)"
   ]
  },
  {
   "cell_type": "code",
   "execution_count": 167,
   "metadata": {},
   "outputs": [
    {
     "name": "stdout",
     "output_type": "stream",
     "text": [
      "[ID: 17, Name: Điện Thoại - Máy Tính Bảng, URL: https://tiki.vn/dien-thoai-may-tinh-bang/c1789?src=c.1789.hamburger_menu_fly_out_banner, Parent: None, ID: 18, Name: Điện Tử - Điện Lạnh, URL: https://tiki.vn/tivi-thiet-bi-nghe-nhin/c4221?src=c.4221.hamburger_menu_fly_out_banner, Parent: None, ID: 19, Name: Phụ Kiện - Thiết Bị Số, URL: https://tiki.vn/thiet-bi-kts-phu-kien-so/c1815?src=c.1815.hamburger_menu_fly_out_banner, Parent: None, ID: 20, Name: Laptop - Thiết bị IT, URL: https://tiki.vn/laptop-may-vi-tinh/c1846?src=c.1846.hamburger_menu_fly_out_banner, Parent: None, ID: 21, Name: Máy Ảnh - Quay Phim, URL: https://tiki.vn/may-anh/c1801?src=c.1801.hamburger_menu_fly_out_banner, Parent: None, ID: 22, Name: Điện Gia Dụng, URL: https://tiki.vn/dien-gia-dung/c1882?src=c.1882.hamburger_menu_fly_out_banner, Parent: None, ID: 23, Name: Nhà Cửa Đời Sống, URL: https://tiki.vn/nha-cua-doi-song/c1883?src=c.1883.hamburger_menu_fly_out_banner, Parent: None, ID: 24, Name: Hàng Tiêu Dùng - Thực Phẩm, URL: https://tiki.vn/bach-hoa-online/c4384?src=c.4384.hamburger_menu_fly_out_banner, Parent: None, ID: 25, Name: Đồ chơi, Mẹ & Bé, URL: https://tiki.vn/me-va-be/c2549?src=c.2549.hamburger_menu_fly_out_banner, Parent: None, ID: 26, Name: Làm Đẹp - Sức Khỏe, URL: https://tiki.vn/lam-dep-suc-khoe/c1520?src=c.1520.hamburger_menu_fly_out_banner, Parent: None, ID: 27, Name: Thời trang - Phụ kiện, URL: https://tiki.vn/thoi-trang/c914?src=c.914.hamburger_menu_fly_out_banner, Parent: None, ID: 28, Name: Thể Thao - Dã Ngoại, URL: https://tiki.vn/the-thao/c1975?src=c.1975.hamburger_menu_fly_out_banner, Parent: None, ID: 29, Name: Xe Máy, Ô tô, Xe Đạp, URL: https://tiki.vn/o-to-xe-may-xe-dap/c8594?src=c.8594.hamburger_menu_fly_out_banner, Parent: None, ID: 30, Name: Hàng quốc tế, URL: https://tiki.vn/hang-quoc-te/c17166?src=c.17166.hamburger_menu_fly_out_banner, Parent: None, ID: 31, Name: Sách, VPP & Quà Tặng, URL: https://tiki.vn/nha-sach-tiki/c8322?src=c.8322.hamburger_menu_fly_out_banner, Parent: None, ID: 32, Name: Voucher - Dịch Vụ - Thẻ Cào, URL: https://tiki.vn/voucher-dich-vu/c11312?src=c.11312.hamburger_menu_fly_out_banner, Parent: None]\n"
     ]
    }
   ],
   "source": []
  }
 ],
 "metadata": {
  "kernelspec": {
   "display_name": "Python 3",
   "language": "python",
   "name": "python3"
  },
  "language_info": {
   "codemirror_mode": {
    "name": "ipython",
    "version": 3
   },
   "file_extension": ".py",
   "mimetype": "text/x-python",
   "name": "python",
   "nbconvert_exporter": "python",
   "pygments_lexer": "ipython3",
   "version": "3.7.8"
  }
 },
 "nbformat": 4,
 "nbformat_minor": 4
}
