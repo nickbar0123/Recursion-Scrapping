{
 "cells": [
  {
   "cell_type": "code",
   "execution_count": null,
   "metadata": {},
   "outputs": [],
   "source": [
    "from bs4 import BeautifulSoup\n",
    "import time\n",
    "import pandas as pd\n",
    "import requests\n",
    "import sqlite3"
   ]
  },
  {
   "cell_type": "code",
   "execution_count": null,
   "metadata": {},
   "outputs": [],
   "source": [
    "#Function to get main url Tiki\n",
    "def get_url(url):\n",
    "    request = requests.get(url)\n",
    "    soup = BeautifulSoup(request.text, 'html.parser')\n",
    "    return soup"
   ]
  },
  {
   "cell_type": "code",
   "execution_count": null,
   "metadata": {},
   "outputs": [],
   "source": [
    "#Finding tag for categories \n",
    "link = get_url('https://tiki.vn/')\n",
    "link.find_all('a', {'class' : 'MenuItem__MenuLink-sc-181aa19-1 fKvTQu'})"
   ]
  },
  {
   "cell_type": "code",
   "execution_count": null,
   "metadata": {},
   "outputs": [],
   "source": [
    "conn = sqlite3.connect('tiki.db')\n",
    "cur = conn.cursor()"
   ]
  },
  {
   "cell_type": "code",
   "execution_count": null,
   "metadata": {},
   "outputs": [],
   "source": [
    "#Creating a table named Categories\n",
    "def create_table():\n",
    "    query = '''\n",
    "    CREATE TABLE IF NOT EXISTS categories \n",
    "    (id INTEGER PRIMARY KEY AUTOINCREMENT,\n",
    "    name VARCHAR(256),\n",
    "    url TEXT,\n",
    "    parent_id INTEGER\n",
    "    )'''\n",
    "    try:\n",
    "        conn.execute(query)\n",
    "        conn.commit()\n",
    "    except Exception as err:\n",
    "        print('Error', err)\n",
    "\n",
    "create_table()"
   ]
  },
  {
   "cell_type": "code",
   "execution_count": null,
   "metadata": {},
   "outputs": [],
   "source": [
    "class Category():\n",
    "    def __init__(self, name, url, parent_id = None, cat_id = None):\n",
    "        self.cat_id = cat_id\n",
    "        self.name = name\n",
    "        self.url = url\n",
    "        self.parent_id = parent_id\n",
    "        \n",
    "    \n",
    "    def __repr__(self):\n",
    "        return f\"ID: {self.cat_id}, Name: {self.name}, URL: {self.url}, Parent: {self.parent_id}\"\n",
    "    \n",
    "    def save_into_db(self):\n",
    "        query = '''\n",
    "        INSERT INTO categories\n",
    "        (name, url, parent_id)\n",
    "        VALUES (?,?,?)'''\n",
    "        \n",
    "        value = (self.name, self.url, self.parent_id)\n",
    "        \n",
    "        try:\n",
    "            cur.execute(query, value)\n",
    "            self.cat_id = cur.lastrowid\n",
    "            conn.commit()\n",
    "        except Exception as err:\n",
    "            print(\"Error\")"
   ]
  },
  {
   "cell_type": "code",
   "execution_count": null,
   "metadata": {},
   "outputs": [],
   "source": [
    "#Function to get main categories\n",
    "def main(save_db = False):\n",
    "    soup = get_url('https://tiki.vn/')\n",
    "    \n",
    "    result = []\n",
    "    \n",
    "    for a in soup.find_all('a', {'class': 'MenuItem__MenuLink-sc-181aa19-1 fKvTQu'}):\n",
    "        name = a.find('span', {'class': 'text'}).text\n",
    "        url = a['href']\n",
    "        main_cat = Category(name, url)\n",
    "        \n",
    "        if save_db:\n",
    "            main_cat.save_into_db()\n",
    "        result.append(main_cat)\n",
    "        \n",
    "    return result"
   ]
  },
  {
   "cell_type": "code",
   "execution_count": null,
   "metadata": {},
   "outputs": [],
   "source": [
    "main_categories = main(save_db = True)"
   ]
  },
  {
   "cell_type": "code",
   "execution_count": null,
   "metadata": {},
   "outputs": [],
   "source": [
    "print(len(main_categories))\n",
    "#16 main categories"
   ]
  },
  {
   "cell_type": "code",
   "execution_count": null,
   "metadata": {},
   "outputs": [],
   "source": [
    "import re\n",
    "\n",
    "def sub_categories(parent_category, save_db = False):\n",
    "    parent_url = parent_category.url\n",
    "    result = []\n",
    "    \n",
    "    try:\n",
    "        soup = get_url(parent_url)\n",
    "        div_children = soup.find_all('div', {'class': 'list-group-item is-child'})\n",
    "        \n",
    "        for div in div_children:\n",
    "            name = div.a.text.strip()\n",
    "            \n",
    "            name = re.sub('\\s{2,}','',name)\n",
    "            \n",
    "            sub_url = 'https://tiki.vn/' + div.a['href']\n",
    "            cat = Category(name, sub_url, parent_category.cat_id)\n",
    "            \n",
    "            if save_db:\n",
    "                cat.save_into_db()\n",
    "                \n",
    "            result.append(cat)\n",
    "                \n",
    "    except Exception as err:\n",
    "        print(\"Error with children categories\", err)\n",
    "    \n",
    "    return result"
   ]
  },
  {
   "cell_type": "code",
   "execution_count": null,
   "metadata": {},
   "outputs": [],
   "source": [
    "def get_all(categories):\n",
    "    if len(categories) == 0:\n",
    "        return\n",
    "    \n",
    "    for item in categories:\n",
    "        children_categories = sub_categories(item, save_db = True)\n",
    "        print(children_categories)\n",
    "        get_all(children_categories)"
   ]
  },
  {
   "cell_type": "code",
   "execution_count": null,
   "metadata": {},
   "outputs": [],
   "source": [
    "get_all(main_categories)"
   ]
  },
  {
   "cell_type": "code",
   "execution_count": 634,
   "metadata": {},
   "outputs": [],
   "source": [
    "def product_table():\n",
    "    query = '''\n",
    "    CREATE TABLE IF NOT EXISTS product\n",
    "    (Product_ID INTEGER PRIMARY KEY AUTOINCREMENT, \n",
    "    Cat_id INT, \n",
    "    Title VARCHAR(256),\n",
    "    Brand VARCHAR(30),\n",
    "    Original INTEGER,\n",
    "    Discounted SMALLINT,\n",
    "    Final INTEGER,\n",
    "    Link TEXT)''' # FOREIGN KEY (Cat_id) REFRENCES categories (ID) -> see below for explanation \n",
    "    #Tom suggested I search up how to do one to many relationships in sqlite python...\n",
    "    \n",
    "    try:\n",
    "        conn.execute(query)\n",
    "        conn.commit()\n",
    "    except Exception as err:\n",
    "        print('Error', err)"
   ]
  },
  {
   "cell_type": "code",
   "execution_count": 635,
   "metadata": {},
   "outputs": [],
   "source": [
    "product_table()"
   ]
  },
  {
   "cell_type": "code",
   "execution_count": null,
   "metadata": {},
   "outputs": [],
   "source": [
    "cur.execute('DROP table product')"
   ]
  },
  {
   "cell_type": "code",
   "execution_count": null,
   "metadata": {},
   "outputs": [],
   "source": [
    "class Product():\n",
    "    def __init__(self, title, brand, original, discounted, final, link, product_id = None, cat_id = None): \n",
    "        self.title = title\n",
    "        self.brand = brand\n",
    "        self.original = original\n",
    "        self.discounted = discounted\n",
    "        self.final = final\n",
    "        self.link = link \n",
    "        self.product_id = product_id \n",
    "        self.cat_id = cat_id\n",
    "    \n",
    "    def __repr__(self):\n",
    "        return f'Title: {self.title}, Brand: {self.brand}, Original: {self.original}, Discounted: {self.discounted}, Final: {self.final}, Link: {self.link}'\n",
    "    \n",
    "    #Cat_id: {self.cat_id}, \n",
    "    \n",
    "    def save_into_db(self):\n",
    "        query = '''\n",
    "        INSERT INTO product\n",
    "        (Title, Brand, Original, Discounted, Final, Link)\n",
    "        VALUES (?,?,?,?,?,?);'''\n",
    "        \n",
    "        value = (self.cat_id, self.title,self.brand, self.original, self.discounted, self.final, self.link)\n",
    "        \n",
    "        #cur.lastrowid autoincrement for Primary key \n",
    "        try:\n",
    "            cur.execute(query,value)\n",
    "            self.product_id = cur.lastrowid\n",
    "            conn.commit()\n",
    "            \n",
    "        except Exception as err:\n",
    "            print(\"Error\", err)"
   ]
  },
  {
   "cell_type": "code",
   "execution_count": null,
   "metadata": {},
   "outputs": [],
   "source": [
    "def get_all_url_id():\n",
    "    sub_catagories = pd.read_sql('''\n",
    "    SELECT DISTINCT a.url, a.id\n",
    "    FROM categories AS a\n",
    "    LEFT JOIN categories as b ON a.id = b.parent_id\n",
    "    WHERE b.id IS NULL\n",
    "    ORDER BY a.name ASC''', conn)\n",
    "    \n",
    "    return sub_catagories"
   ]
  },
  {
   "cell_type": "code",
   "execution_count": null,
   "metadata": {},
   "outputs": [],
   "source": [
    "sub_catagories = get_all_url_id()"
   ]
  },
  {
   "cell_type": "code",
   "execution_count": 637,
   "metadata": {},
   "outputs": [
    {
     "data": {
      "text/plain": [
       "0       https://tiki.vn//3d/c23742?src=c.1883.hamburge...\n",
       "1       https://tiki.vn//access-point-diem-truy-cap/c4...\n",
       "2       https://tiki.vn//access/c14884?src=c.8322.hamb...\n",
       "3       https://tiki.vn//action-adventure/c142?src=c.8...\n",
       "4       https://tiki.vn//action-adventure/c11017?src=c...\n",
       "                              ...                        \n",
       "2675    https://tiki.vn//o-cam-dien/c2021?src=c.1883.h...\n",
       "2676    https://tiki.vn//o-khoa-vali/c8389?src=c.914.h...\n",
       "2677    https://tiki.vn//o-khoa/c2154?src=c.1883.hambu...\n",
       "2678    https://tiki.vn//o-dia-quang/c28908?src=c.1846...\n",
       "2679    https://tiki.vn//on-ap-bien-ap/c11854?src=c.18...\n",
       "Name: url, Length: 2680, dtype: object"
      ]
     },
     "execution_count": 637,
     "metadata": {},
     "output_type": "execute_result"
    }
   ],
   "source": [
    "sub_catagories.url"
   ]
  },
  {
   "cell_type": "code",
   "execution_count": 624,
   "metadata": {},
   "outputs": [
    {
     "data": {
      "text/html": [
       "<div>\n",
       "<style scoped>\n",
       "    .dataframe tbody tr th:only-of-type {\n",
       "        vertical-align: middle;\n",
       "    }\n",
       "\n",
       "    .dataframe tbody tr th {\n",
       "        vertical-align: top;\n",
       "    }\n",
       "\n",
       "    .dataframe thead th {\n",
       "        text-align: right;\n",
       "    }\n",
       "</style>\n",
       "<table border=\"1\" class=\"dataframe\">\n",
       "  <thead>\n",
       "    <tr style=\"text-align: right;\">\n",
       "      <th></th>\n",
       "      <th>url</th>\n",
       "    </tr>\n",
       "  </thead>\n",
       "  <tbody>\n",
       "    <tr>\n",
       "      <th>0</th>\n",
       "      <td>https://tiki.vn//3d/c23742?src=c.1883.hamburge...</td>\n",
       "    </tr>\n",
       "    <tr>\n",
       "      <th>1</th>\n",
       "      <td>https://tiki.vn//access-point-diem-truy-cap/c4...</td>\n",
       "    </tr>\n",
       "    <tr>\n",
       "      <th>2</th>\n",
       "      <td>https://tiki.vn//access/c14884?src=c.8322.hamb...</td>\n",
       "    </tr>\n",
       "    <tr>\n",
       "      <th>3</th>\n",
       "      <td>https://tiki.vn//action-adventure/c142?src=c.8...</td>\n",
       "    </tr>\n",
       "    <tr>\n",
       "      <th>4</th>\n",
       "      <td>https://tiki.vn//action-adventure/c11017?src=c...</td>\n",
       "    </tr>\n",
       "    <tr>\n",
       "      <th>...</th>\n",
       "      <td>...</td>\n",
       "    </tr>\n",
       "    <tr>\n",
       "      <th>2675</th>\n",
       "      <td>https://tiki.vn//o-cam-dien/c2021?src=c.1883.h...</td>\n",
       "    </tr>\n",
       "    <tr>\n",
       "      <th>2676</th>\n",
       "      <td>https://tiki.vn//o-khoa-vali/c8389?src=c.914.h...</td>\n",
       "    </tr>\n",
       "    <tr>\n",
       "      <th>2677</th>\n",
       "      <td>https://tiki.vn//o-khoa/c2154?src=c.1883.hambu...</td>\n",
       "    </tr>\n",
       "    <tr>\n",
       "      <th>2678</th>\n",
       "      <td>https://tiki.vn//o-dia-quang/c28908?src=c.1846...</td>\n",
       "    </tr>\n",
       "    <tr>\n",
       "      <th>2679</th>\n",
       "      <td>https://tiki.vn//on-ap-bien-ap/c11854?src=c.18...</td>\n",
       "    </tr>\n",
       "  </tbody>\n",
       "</table>\n",
       "<p>2680 rows × 1 columns</p>\n",
       "</div>"
      ],
      "text/plain": [
       "                                                    url\n",
       "0     https://tiki.vn//3d/c23742?src=c.1883.hamburge...\n",
       "1     https://tiki.vn//access-point-diem-truy-cap/c4...\n",
       "2     https://tiki.vn//access/c14884?src=c.8322.hamb...\n",
       "3     https://tiki.vn//action-adventure/c142?src=c.8...\n",
       "4     https://tiki.vn//action-adventure/c11017?src=c...\n",
       "...                                                 ...\n",
       "2675  https://tiki.vn//o-cam-dien/c2021?src=c.1883.h...\n",
       "2676  https://tiki.vn//o-khoa-vali/c8389?src=c.914.h...\n",
       "2677  https://tiki.vn//o-khoa/c2154?src=c.1883.hambu...\n",
       "2678  https://tiki.vn//o-dia-quang/c28908?src=c.1846...\n",
       "2679  https://tiki.vn//on-ap-bien-ap/c11854?src=c.18...\n",
       "\n",
       "[2680 rows x 1 columns]"
      ]
     },
     "execution_count": 624,
     "metadata": {},
     "output_type": "execute_result"
    }
   ],
   "source": [
    "sub_categories"
   ]
  },
  {
   "cell_type": "code",
   "execution_count": null,
   "metadata": {},
   "outputs": [],
   "source": [
    "links = []\n",
    "#Getting all the links, I don't think this is the right way... \n",
    "for url in sub_categories['url']:\n",
    "    links.append(url)"
   ]
  },
  {
   "cell_type": "code",
   "execution_count": null,
   "metadata": {},
   "outputs": [],
   "source": [
    "print(links)"
   ]
  },
  {
   "cell_type": "code",
   "execution_count": 638,
   "metadata": {},
   "outputs": [],
   "source": [
    "def get_product(save_db = False):\n",
    "    result = []\n",
    "    try:\n",
    "        \n",
    "        for product in products:\n",
    "            title = product['data-title']\n",
    "            brand = product['data-brand']\n",
    "            original = product.find('span', {'class': 'sale-tag sale-tag-square'}).text.replace('đ','')\n",
    "            discounted = product.find('span', {'class': 'sale-tag sale-tag-square'}).text.replace('%','')\n",
    "            final = product['data-price']\n",
    "            link = 'tiki.vn' + product.a['href']\n",
    "            \n",
    "            #sub_catagories.id, somehow, should link to the category table... how? I don't know\n",
    "            item = Product(sub_catagories.id, title, brand, original, discounted, final, link)\n",
    "            if save_db:\n",
    "                item.save_into_db()\n",
    "            result.append(item)\n",
    "    except Exception as err:\n",
    "        print('F', err)"
   ]
  },
  {
   "cell_type": "code",
   "execution_count": null,
   "metadata": {},
   "outputs": [],
   "source": [
    "# data = []\n",
    "# for url in links:\n",
    "#     try:\n",
    "#         r = requests.get(url)\n",
    "#         soup = BeautifulSoup(r, 'html.parser')\n",
    "#         products = soup.find_all('div', {'class': 'product-item'})\n",
    "#     except Exception as err:\n",
    "#         print('Error', err)\n",
    "#         try:\n",
    "#             for product in products:\n",
    "#                 title = product['data-title']\n",
    "#                 brand = product['data-brand']\n",
    "#                 original = product.find('span', {'class': 'sale-tag sale-tag-square'}).text.replace('đ','')\n",
    "#                 discounted = product.find('span', {'class': 'sale-tag sale-tag-square'}).text.replace('%','')\n",
    "#                 final = product['data-price']\n",
    "#                 link = 'tiki.vn' + product.a['href']\n",
    "        \n",
    "#                 items = Product(title, brand, original, discounted, final, link)\n",
    "#                 items.save_into_db()\n",
    "#             data.append(items)\n",
    "#         except Exception as err:\n",
    "#             print('F',err)\n",
    "            "
   ]
  },
  {
   "cell_type": "code",
   "execution_count": null,
   "metadata": {},
   "outputs": [],
   "source": []
  },
  {
   "cell_type": "code",
   "execution_count": null,
   "metadata": {},
   "outputs": [],
   "source": []
  }
 ],
 "metadata": {
  "kernelspec": {
   "display_name": "Python 3",
   "language": "python",
   "name": "python3"
  },
  "language_info": {
   "codemirror_mode": {
    "name": "ipython",
    "version": 3
   },
   "file_extension": ".py",
   "mimetype": "text/x-python",
   "name": "python",
   "nbconvert_exporter": "python",
   "pygments_lexer": "ipython3",
   "version": "3.7.8"
  }
 },
 "nbformat": 4,
 "nbformat_minor": 4
}
